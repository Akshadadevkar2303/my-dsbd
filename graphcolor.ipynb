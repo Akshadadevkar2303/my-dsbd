{
 "cells": [
  {
   "cell_type": "code",
   "execution_count": 1,
   "id": "66d886dc-5410-41b2-9c10-25b5790064af",
   "metadata": {},
   "outputs": [
    {
     "name": "stdout",
     "output_type": "stream",
     "text": [
      "Coloring of the graph is: [1, 2, 2, 3]\n"
     ]
    }
   ],
   "source": [
    "def is_safe(graph, colors, vertex, c):\n",
    "    \"\"\"Check if it's safe to color vertex with color c.\"\"\"\n",
    "    for i in range(len(graph)):\n",
    "        if graph[vertex][i] == 1 and colors[i] == c:\n",
    "            return False\n",
    "    return True\n",
    "\n",
    "def graph_coloring_util(graph, m, colors, vertex):\n",
    "    \"\"\"Utility function to solve the graph coloring problem using backtracking.\"\"\"\n",
    "    if vertex == len(graph):\n",
    "        return True  # All vertices are colored\n",
    "\n",
    "    for c in range(1, m + 1):  # Try different colors\n",
    "        if is_safe(graph, colors, vertex, c):\n",
    "            colors[vertex] = c  # Assign color c to vertex\n",
    "            if graph_coloring_util(graph, m, colors, vertex + 1):\n",
    "                return True  # If successful, return True\n",
    "            colors[vertex] = 0  # Backtrack\n",
    "\n",
    "    return False  # No color can be assigned\n",
    "\n",
    "def graph_coloring(graph, m):\n",
    "    \"\"\"Main function to solve the graph coloring problem.\"\"\"\n",
    "    colors = [0] * len(graph)  # Initialize colors for all vertices\n",
    "    if graph_coloring_util(graph, m, colors, 0):\n",
    "        return colors\n",
    "    else:\n",
    "        return None  # No solution exists\n",
    "\n",
    "# Example usage\n",
    "if __name__ == \"__main__\":\n",
    "    # Graph represented as an adjacency matrix\n",
    "    graph = [\n",
    "        [0, 1, 1, 1],\n",
    "        [1, 0, 0, 1],\n",
    "        [1, 0, 0, 1],\n",
    "        [1, 1, 1, 0]\n",
    "    ]\n",
    "    m = 3  # Number of colors\n",
    "\n",
    "    result = graph_coloring(graph, m)\n",
    "    if result:\n",
    "        print(\"Coloring of the graph is:\", result)\n",
    "    else:\n",
    "        print(\"No solution exists.\")"
   ]
  },
  {
   "cell_type": "code",
   "execution_count": null,
   "id": "83189dd0-5ee6-4b11-95f5-8c105b7bbc0e",
   "metadata": {},
   "outputs": [],
   "source": []
  }
 ],
 "metadata": {
  "kernelspec": {
   "display_name": "Python 3 (ipykernel)",
   "language": "python",
   "name": "python3"
  },
  "language_info": {
   "codemirror_mode": {
    "name": "ipython",
    "version": 3
   },
   "file_extension": ".py",
   "mimetype": "text/x-python",
   "name": "python",
   "nbconvert_exporter": "python",
   "pygments_lexer": "ipython3",
   "version": "3.12.6"
  }
 },
 "nbformat": 4,
 "nbformat_minor": 5
}
