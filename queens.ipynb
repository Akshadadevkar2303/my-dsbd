{
 "cells": [
  {
   "cell_type": "code",
   "execution_count": 4,
   "id": "33851b35-50c0-406f-a207-d864b1d49b8f",
   "metadata": {},
   "outputs": [
    {
     "name": "stdin",
     "output_type": "stream",
     "text": [
      "Enter the number of queens:  4\n"
     ]
    },
    {
     "name": "stdout",
     "output_type": "stream",
     "text": [
      "Total solutions for 4-Queens problem: 1\n",
      "Solution:\n",
      ". . Q .\n",
      "Q . . .\n",
      ". . . Q\n",
      ". Q . .\n",
      "\n"
     ]
    }
   ],
   "source": [
    "import sys\n",
    "\n",
    "# Function to check if the queen placement is valid\n",
    "def is_safe(board, row, col, N):\n",
    "    # Check this column on the upper side\n",
    "    for i in range(row):\n",
    "        if board[i] == col:\n",
    "            return False\n",
    "\n",
    "    # Check the upper diagonal on the left side\n",
    "    for i, j in zip(range(row, -1, -1), range(col, -1, -1)):\n",
    "        if board[i] == j:\n",
    "            return False\n",
    "\n",
    "    # Check the upper diagonal on the right side\n",
    "    for i, j in zip(range(row, -1, -1), range(col, N)):\n",
    "        if board[i] == j:\n",
    "            return False\n",
    "\n",
    "    return True\n",
    "\n",
    "# Recursive utility function to solve N Queens using Branch and Bound\n",
    "def solve_nqueens_util(board, row, N, solutions):\n",
    "    if row >= N:\n",
    "        # All queens are placed correctly, add the solution\n",
    "        solutions.append(board[:])\n",
    "        return\n",
    "\n",
    "    for col in range(N):\n",
    "        if is_safe(board, row, col, N):\n",
    "            # Place this queen in board[row]\n",
    "            board[row] = col\n",
    "            # Recur to place the rest of the queens\n",
    "            solve_nqueens_util(board, row + 1, N, solutions)\n",
    "\n",
    "            # Backtrack, remove the queen from board[row] (Not required in Python due to list copy)\n",
    "\n",
    "# Main function to solve the N-Queens problem using Branch and Bound\n",
    "def solve_nqueens(N):\n",
    "    # Initialize the board with -1 (meaning no queen is placed in any row)\n",
    "    board = [-1] * N\n",
    "    solutions = []\n",
    "    solve_nqueens_util(board, 0, N, solutions)\n",
    "    return solutions\n",
    "\n",
    "# Function to print the solution in a readable format\n",
    "def print_solutions(solutions, N):\n",
    "    for sol in solutions:\n",
    "        print(\"Solution:\")\n",
    "        for i in range(N):\n",
    "            row = ['.'] * N\n",
    "            row[sol[i]] = 'Q'\n",
    "            print(' '.join(row))\n",
    "        print()\n",
    "\n",
    "# Driver code\n",
    "if __name__ == \"__main__\":\n",
    "    N = int(input(\"Enter the number of queens: \"))  # For example, 4 for a 4x4 board\n",
    "    solutions = solve_nqueens(N)\n",
    "\n",
    "    print(f\"Total solutions for {N}-Queens problem: {len(solutions)}\")\n",
    "    print_solutions(solutions, N)\n"
   ]
  },
  {
   "cell_type": "code",
   "execution_count": null,
   "id": "a91e460a-3549-4961-bdfd-1bf7cfaecc22",
   "metadata": {},
   "outputs": [],
   "source": []
  }
 ],
 "metadata": {
  "kernelspec": {
   "display_name": "Python 3 (ipykernel)",
   "language": "python",
   "name": "python3"
  },
  "language_info": {
   "codemirror_mode": {
    "name": "ipython",
    "version": 3
   },
   "file_extension": ".py",
   "mimetype": "text/x-python",
   "name": "python",
   "nbconvert_exporter": "python",
   "pygments_lexer": "ipython3",
   "version": "3.12.6"
  }
 },
 "nbformat": 4,
 "nbformat_minor": 5
}
